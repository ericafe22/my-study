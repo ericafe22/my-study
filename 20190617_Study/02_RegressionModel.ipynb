{
 "cells": [
  {
   "cell_type": "markdown",
   "metadata": {},
   "source": [
    "# 線形回帰について\n",
    "\n",
    "$Y$を目的変数、$X_i$を説明変数、および$\\epsilon$を撹乱項とする\n",
    "\n",
    "・単線形回帰\n",
    "\n",
    "$Y = \\beta_0 + \\beta_1X_1 + \\epsilon$\n",
    "\n",
    "・重線形回帰\n",
    "\n",
    "$Y = \\beta_0 + \\beta_1X_1 + \\beta_2X_2 + \\dots + \\beta_pX_p + \\epsilon$\n",
    "\n",
    "モデルの決定とは裏ではこのような数式に従って結果が出ているんだと信じて、パラメータ$\\beta_0 \\dots \\beta_p$を推測すること"
   ]
  },
  {
   "cell_type": "markdown",
   "metadata": {},
   "source": [
    "# 物件価格を予測してみよう"
   ]
  },
  {
   "cell_type": "markdown",
   "metadata": {},
   "source": [
    "### データの特徴を考察する"
   ]
  },
  {
   "cell_type": "code",
   "execution_count": 2,
   "metadata": {},
   "outputs": [],
   "source": [
    "# サンプルデータセットの読み込み\n",
    "import pandas as pd\n",
    "from sklearn.datasets import load_boston\n",
    "boston = load_boston()"
   ]
  },
  {
   "cell_type": "code",
   "execution_count": 3,
   "metadata": {},
   "outputs": [
    {
     "name": "stdout",
     "output_type": "stream",
     "text": [
      ".. _boston_dataset:\n",
      "\n",
      "Boston house prices dataset\n",
      "---------------------------\n",
      "\n",
      "**Data Set Characteristics:**  \n",
      "\n",
      "    :Number of Instances: 506 \n",
      "\n",
      "    :Number of Attributes: 13 numeric/categorical predictive. Median Value (attribute 14) is usually the target.\n",
      "\n",
      "    :Attribute Information (in order):\n",
      "        - CRIM     per capita crime rate by town\n",
      "        - ZN       proportion of residential land zoned for lots over 25,000 sq.ft.\n",
      "        - INDUS    proportion of non-retail business acres per town\n",
      "        - CHAS     Charles River dummy variable (= 1 if tract bounds river; 0 otherwise)\n",
      "        - NOX      nitric oxides concentration (parts per 10 million)\n",
      "        - RM       average number of rooms per dwelling\n",
      "        - AGE      proportion of owner-occupied units built prior to 1940\n",
      "        - DIS      weighted distances to five Boston employment centres\n",
      "        - RAD      index of accessibility to radial highways\n",
      "        - TAX      full-value property-tax rate per $10,000\n",
      "        - PTRATIO  pupil-teacher ratio by town\n",
      "        - B        1000(Bk - 0.63)^2 where Bk is the proportion of blacks by town\n",
      "        - LSTAT    % lower status of the population\n",
      "        - MEDV     Median value of owner-occupied homes in $1000's\n",
      "\n",
      "    :Missing Attribute Values: None\n",
      "\n",
      "    :Creator: Harrison, D. and Rubinfeld, D.L.\n",
      "\n",
      "This is a copy of UCI ML housing dataset.\n",
      "https://archive.ics.uci.edu/ml/machine-learning-databases/housing/\n",
      "\n",
      "\n",
      "This dataset was taken from the StatLib library which is maintained at Carnegie Mellon University.\n",
      "\n",
      "The Boston house-price data of Harrison, D. and Rubinfeld, D.L. 'Hedonic\n",
      "prices and the demand for clean air', J. Environ. Economics & Management,\n",
      "vol.5, 81-102, 1978.   Used in Belsley, Kuh & Welsch, 'Regression diagnostics\n",
      "...', Wiley, 1980.   N.B. Various transformations are used in the table on\n",
      "pages 244-261 of the latter.\n",
      "\n",
      "The Boston house-price data has been used in many machine learning papers that address regression\n",
      "problems.   \n",
      "     \n",
      ".. topic:: References\n",
      "\n",
      "   - Belsley, Kuh & Welsch, 'Regression diagnostics: Identifying Influential Data and Sources of Collinearity', Wiley, 1980. 244-261.\n",
      "   - Quinlan,R. (1993). Combining Instance-Based and Model-Based Learning. In Proceedings on the Tenth International Conference of Machine Learning, 236-243, University of Massachusetts, Amherst. Morgan Kaufmann.\n",
      "\n"
     ]
    }
   ],
   "source": [
    "# データセットの特徴を確認\n",
    "print(boston.DESCR)"
   ]
  },
  {
   "cell_type": "code",
   "execution_count": 4,
   "metadata": {},
   "outputs": [
    {
     "data": {
      "text/html": [
       "<div>\n",
       "<style scoped>\n",
       "    .dataframe tbody tr th:only-of-type {\n",
       "        vertical-align: middle;\n",
       "    }\n",
       "\n",
       "    .dataframe tbody tr th {\n",
       "        vertical-align: top;\n",
       "    }\n",
       "\n",
       "    .dataframe thead th {\n",
       "        text-align: right;\n",
       "    }\n",
       "</style>\n",
       "<table border=\"1\" class=\"dataframe\">\n",
       "  <thead>\n",
       "    <tr style=\"text-align: right;\">\n",
       "      <th></th>\n",
       "      <th>CRIM</th>\n",
       "      <th>ZN</th>\n",
       "      <th>INDUS</th>\n",
       "      <th>CHAS</th>\n",
       "      <th>NOX</th>\n",
       "      <th>RM</th>\n",
       "      <th>AGE</th>\n",
       "      <th>DIS</th>\n",
       "      <th>RAD</th>\n",
       "      <th>TAX</th>\n",
       "      <th>PTRATIO</th>\n",
       "      <th>B</th>\n",
       "      <th>LSTAT</th>\n",
       "    </tr>\n",
       "  </thead>\n",
       "  <tbody>\n",
       "    <tr>\n",
       "      <th>0</th>\n",
       "      <td>0.00632</td>\n",
       "      <td>18.0</td>\n",
       "      <td>2.31</td>\n",
       "      <td>0.0</td>\n",
       "      <td>0.538</td>\n",
       "      <td>6.575</td>\n",
       "      <td>65.2</td>\n",
       "      <td>4.0900</td>\n",
       "      <td>1.0</td>\n",
       "      <td>296.0</td>\n",
       "      <td>15.3</td>\n",
       "      <td>396.90</td>\n",
       "      <td>4.98</td>\n",
       "    </tr>\n",
       "    <tr>\n",
       "      <th>1</th>\n",
       "      <td>0.02731</td>\n",
       "      <td>0.0</td>\n",
       "      <td>7.07</td>\n",
       "      <td>0.0</td>\n",
       "      <td>0.469</td>\n",
       "      <td>6.421</td>\n",
       "      <td>78.9</td>\n",
       "      <td>4.9671</td>\n",
       "      <td>2.0</td>\n",
       "      <td>242.0</td>\n",
       "      <td>17.8</td>\n",
       "      <td>396.90</td>\n",
       "      <td>9.14</td>\n",
       "    </tr>\n",
       "    <tr>\n",
       "      <th>2</th>\n",
       "      <td>0.02729</td>\n",
       "      <td>0.0</td>\n",
       "      <td>7.07</td>\n",
       "      <td>0.0</td>\n",
       "      <td>0.469</td>\n",
       "      <td>7.185</td>\n",
       "      <td>61.1</td>\n",
       "      <td>4.9671</td>\n",
       "      <td>2.0</td>\n",
       "      <td>242.0</td>\n",
       "      <td>17.8</td>\n",
       "      <td>392.83</td>\n",
       "      <td>4.03</td>\n",
       "    </tr>\n",
       "    <tr>\n",
       "      <th>3</th>\n",
       "      <td>0.03237</td>\n",
       "      <td>0.0</td>\n",
       "      <td>2.18</td>\n",
       "      <td>0.0</td>\n",
       "      <td>0.458</td>\n",
       "      <td>6.998</td>\n",
       "      <td>45.8</td>\n",
       "      <td>6.0622</td>\n",
       "      <td>3.0</td>\n",
       "      <td>222.0</td>\n",
       "      <td>18.7</td>\n",
       "      <td>394.63</td>\n",
       "      <td>2.94</td>\n",
       "    </tr>\n",
       "    <tr>\n",
       "      <th>4</th>\n",
       "      <td>0.06905</td>\n",
       "      <td>0.0</td>\n",
       "      <td>2.18</td>\n",
       "      <td>0.0</td>\n",
       "      <td>0.458</td>\n",
       "      <td>7.147</td>\n",
       "      <td>54.2</td>\n",
       "      <td>6.0622</td>\n",
       "      <td>3.0</td>\n",
       "      <td>222.0</td>\n",
       "      <td>18.7</td>\n",
       "      <td>396.90</td>\n",
       "      <td>5.33</td>\n",
       "    </tr>\n",
       "  </tbody>\n",
       "</table>\n",
       "</div>"
      ],
      "text/plain": [
       "      CRIM    ZN  INDUS  CHAS    NOX     RM   AGE     DIS  RAD    TAX  \\\n",
       "0  0.00632  18.0   2.31   0.0  0.538  6.575  65.2  4.0900  1.0  296.0   \n",
       "1  0.02731   0.0   7.07   0.0  0.469  6.421  78.9  4.9671  2.0  242.0   \n",
       "2  0.02729   0.0   7.07   0.0  0.469  7.185  61.1  4.9671  2.0  242.0   \n",
       "3  0.03237   0.0   2.18   0.0  0.458  6.998  45.8  6.0622  3.0  222.0   \n",
       "4  0.06905   0.0   2.18   0.0  0.458  7.147  54.2  6.0622  3.0  222.0   \n",
       "\n",
       "   PTRATIO       B  LSTAT  \n",
       "0     15.3  396.90   4.98  \n",
       "1     17.8  396.90   9.14  \n",
       "2     17.8  392.83   4.03  \n",
       "3     18.7  394.63   2.94  \n",
       "4     18.7  396.90   5.33  "
      ]
     },
     "execution_count": 4,
     "metadata": {},
     "output_type": "execute_result"
    }
   ],
   "source": [
    "# 説明変数のデータを確認(5行)\n",
    "pd.DataFrame(boston.data ,  columns=boston.feature_names).head(5)"
   ]
  },
  {
   "cell_type": "code",
   "execution_count": 5,
   "metadata": {},
   "outputs": [],
   "source": [
    "# カラム名\n",
    "# boston.feature_names\n",
    "# 型\n",
    "# print(type(boston.data))\n",
    "# 行数および列数\n",
    "# print(boston.data.shape)"
   ]
  },
  {
   "cell_type": "code",
   "execution_count": 6,
   "metadata": {},
   "outputs": [
    {
     "data": {
      "text/html": [
       "<div>\n",
       "<style scoped>\n",
       "    .dataframe tbody tr th:only-of-type {\n",
       "        vertical-align: middle;\n",
       "    }\n",
       "\n",
       "    .dataframe tbody tr th {\n",
       "        vertical-align: top;\n",
       "    }\n",
       "\n",
       "    .dataframe thead th {\n",
       "        text-align: right;\n",
       "    }\n",
       "</style>\n",
       "<table border=\"1\" class=\"dataframe\">\n",
       "  <thead>\n",
       "    <tr style=\"text-align: right;\">\n",
       "      <th></th>\n",
       "      <th>MEDV</th>\n",
       "    </tr>\n",
       "  </thead>\n",
       "  <tbody>\n",
       "    <tr>\n",
       "      <th>0</th>\n",
       "      <td>24.0</td>\n",
       "    </tr>\n",
       "    <tr>\n",
       "      <th>1</th>\n",
       "      <td>21.6</td>\n",
       "    </tr>\n",
       "    <tr>\n",
       "      <th>2</th>\n",
       "      <td>34.7</td>\n",
       "    </tr>\n",
       "    <tr>\n",
       "      <th>3</th>\n",
       "      <td>33.4</td>\n",
       "    </tr>\n",
       "    <tr>\n",
       "      <th>4</th>\n",
       "      <td>36.2</td>\n",
       "    </tr>\n",
       "  </tbody>\n",
       "</table>\n",
       "</div>"
      ],
      "text/plain": [
       "   MEDV\n",
       "0  24.0\n",
       "1  21.6\n",
       "2  34.7\n",
       "3  33.4\n",
       "4  36.2"
      ]
     },
     "execution_count": 6,
     "metadata": {},
     "output_type": "execute_result"
    }
   ],
   "source": [
    "# 目的変数のデータを確認(5行)\n",
    "pd.DataFrame(boston.target , columns=['MEDV']).head(5)"
   ]
  },
  {
   "cell_type": "markdown",
   "metadata": {},
   "source": [
    "### 散布図でデータの特徴を確認"
   ]
  },
  {
   "cell_type": "code",
   "execution_count": 9,
   "metadata": {},
   "outputs": [
    {
     "data": {
      "image/png": "[encoded data removed]",
      "text/plain": [
       "<Figure size 432x288 with 1 Axes>"
      ]
     },
     "metadata": {
      "needs_background": "light"
     },
     "output_type": "display_data"
    }
   ],
   "source": [
    "# 5列目(部屋数)をx軸、目的変数をy軸にプロットしてデータの傾向を確認する\n",
    "from matplotlib import pyplot as plt\n",
    "plt.scatter(boston.data[:, 5], boston.target, color='b')\n",
    "plt.show()"
   ]
  },
  {
   "cell_type": "code",
   "execution_count": 10,
   "metadata": {},
   "outputs": [
    {
     "data": {
      "image/png": "[encoded data removed]",
      "text/plain": [
       "<Figure size 1440x720 with 13 Axes>"
      ]
     },
     "metadata": {
      "needs_background": "light"
     },
     "output_type": "display_data"
    }
   ],
   "source": [
    "# 全変数に対して上記の散布図を作成する\n",
    "import matplotlib.pyplot as plt\n",
    "import numpy as np\n",
    "\n",
    "fig = plt.figure(figsize=(20, 10))\n",
    "for i in range(13):\n",
    "    j = i + 1\n",
    "    axj = fig.add_subplot(5, 3, j)\n",
    "    axj.set_title(boston.feature_names[i])\n",
    "    axj.scatter(boston.data[:, i], boston.target, color='r')\n",
    "\n",
    "plt.show()"
   ]
  },
  {
   "cell_type": "markdown",
   "metadata": {},
   "source": [
    "### numpyによる単回帰(説明変数が1つのみ)+切片なし"
   ]
  },
  {
   "cell_type": "code",
   "execution_count": 11,
   "metadata": {},
   "outputs": [
    {
     "data": {
      "text/plain": [
       "array([[6.421],\n",
       "       [7.185],\n",
       "       [6.998],\n",
       "       [7.147]])"
      ]
     },
     "execution_count": 11,
     "metadata": {},
     "output_type": "execute_result"
    }
   ],
   "source": [
    "# 説明変数\n",
    "# 部屋数だけを取り出してarray形でXに格納\n",
    "import numpy as np\n",
    "\n",
    "X = boston.data[:, 5]\n",
    "X = np.array([[v] for v in X])\n",
    "X[1:5]"
   ]
  },
  {
   "cell_type": "code",
   "execution_count": 13,
   "metadata": {},
   "outputs": [],
   "source": [
    "# 目的変数\n",
    "Y = boston.target"
   ]
  },
  {
   "cell_type": "code",
   "execution_count": 14,
   "metadata": {},
   "outputs": [
    {
     "name": "stdout",
     "output_type": "stream",
     "text": [
      "[3.6533504], [29555.78152864]\n"
     ]
    },
    {
     "name": "stderr",
     "output_type": "stream",
     "text": [
      "C:\\Users\\RLSUU123304W01\\Anaconda3\\lib\\site-packages\\ipykernel_launcher.py:4: FutureWarning: `rcond` parameter will change to the default of machine precision times ``max(M, N)`` where M and N are the input matrix dimensions.\n",
      "To use the future default and silence this warning we advise to pass `rcond=None`, to keep using the old, explicitly pass `rcond=-1`.\n",
      "  after removing the cwd from sys.path.\n"
     ]
    }
   ],
   "source": [
    "# 最小二乗法で単回帰直線を算出する\n",
    "# slope：傾き\n",
    "# total_error：直線とデータのずれを足し合わせた合計値\n",
    "slope, total_error , _ , _ = np.linalg.lstsq(X, Y)\n",
    "print(f'{slope}, {total_error}')"
   ]
  },
  {
   "cell_type": "code",
   "execution_count": 15,
   "metadata": {},
   "outputs": [
    {
     "data": {
      "image/png": "[encoded data removed]",
      "text/plain": [
       "<Figure size 432x288 with 1 Axes>"
      ]
     },
     "metadata": {
      "needs_background": "light"
     },
     "output_type": "display_data"
    }
   ],
   "source": [
    "# 単回帰直線を描いてみる\n",
    "# np.linspace：等差数列(始点、終点、配列の要素数)\n",
    "plt.scatter(boston.data[:, 5], boston.target, color='r')\n",
    "x = np.linspace(0, 10, 11)\n",
    "y = slope * x\n",
    "plt.plot(x, y, 'r-')\n",
    "plt.show()"
   ]
  },
  {
   "cell_type": "markdown",
   "metadata": {},
   "source": [
    "### numpyによる単回帰(説明変数が1つのみ)+切片なし"
   ]
  },
  {
   "cell_type": "code",
   "execution_count": 16,
   "metadata": {},
   "outputs": [
    {
     "data": {
      "text/plain": [
       "array([[6.421, 1.   ],\n",
       "       [7.185, 1.   ],\n",
       "       [6.998, 1.   ],\n",
       "       [7.147, 1.   ]])"
      ]
     },
     "execution_count": 16,
     "metadata": {},
     "output_type": "execute_result"
    }
   ],
   "source": [
    "# 説明変数\n",
    "# [v, 1] 1を記載することで切片ありの線形回帰になる\n",
    "X = boston.data[:, 5]\n",
    "X = np.array([[v, 1] for v in X])\n",
    "X[1:5]"
   ]
  },
  {
   "cell_type": "code",
   "execution_count": 17,
   "metadata": {},
   "outputs": [],
   "source": [
    "# 目的変数\n",
    "Y = boston.target"
   ]
  },
  {
   "cell_type": "code",
   "execution_count": 18,
   "metadata": {},
   "outputs": [
    {
     "name": "stdout",
     "output_type": "stream",
     "text": [
      "9.102108981180313, -34.670620776438575, [22061.87919621]\n"
     ]
    },
    {
     "name": "stderr",
     "output_type": "stream",
     "text": [
      "C:\\Users\\RLSUU123304W01\\Anaconda3\\lib\\site-packages\\ipykernel_launcher.py:4: FutureWarning: `rcond` parameter will change to the default of machine precision times ``max(M, N)`` where M and N are the input matrix dimensions.\n",
      "To use the future default and silence this warning we advise to pass `rcond=None`, to keep using the old, explicitly pass `rcond=-1`.\n",
      "  after removing the cwd from sys.path.\n"
     ]
    }
   ],
   "source": [
    "# 最小二乗法で単回帰直線を算出する\n",
    "# slope：傾き\n",
    "# bias：切片\n",
    "(slope, bias), total_error , _ , _ = np.linalg.lstsq(X, Y)\n",
    "print(f'{slope}, {bias}, {total_error}')"
   ]
  },
  {
   "cell_type": "code",
   "execution_count": 19,
   "metadata": {},
   "outputs": [
    {
     "data": {
      "image/png": "[encoded data removed]",
      "text/plain": [
       "<Figure size 432x288 with 1 Axes>"
      ]
     },
     "metadata": {
      "needs_background": "light"
     },
     "output_type": "display_data"
    }
   ],
   "source": [
    "# 単回帰直線(切片あり)を描いてみる\n",
    "plt.scatter(boston.data[:, 5], boston.target, color='r')\n",
    "x = np.linspace(0, 10, 11)\n",
    "y = slope * x + bias\n",
    "plt.plot(x, y, 'r-')\n",
    "plt.show()"
   ]
  },
  {
   "cell_type": "markdown",
   "metadata": {},
   "source": [
    "### numpyによる重回帰"
   ]
  },
  {
   "cell_type": "code",
   "execution_count": 20,
   "metadata": {},
   "outputs": [
    {
     "data": {
      "text/plain": [
       "[array([2.7310e-02, 0.0000e+00, 7.0700e+00, 0.0000e+00, 4.6900e-01,\n",
       "        6.4210e+00, 7.8900e+01, 4.9671e+00, 2.0000e+00, 2.4200e+02,\n",
       "        1.7800e+01, 3.9690e+02, 9.1400e+00, 1.0000e+00]),\n",
       " array([2.7290e-02, 0.0000e+00, 7.0700e+00, 0.0000e+00, 4.6900e-01,\n",
       "        7.1850e+00, 6.1100e+01, 4.9671e+00, 2.0000e+00, 2.4200e+02,\n",
       "        1.7800e+01, 3.9283e+02, 4.0300e+00, 1.0000e+00]),\n",
       " array([3.2370e-02, 0.0000e+00, 2.1800e+00, 0.0000e+00, 4.5800e-01,\n",
       "        6.9980e+00, 4.5800e+01, 6.0622e+00, 3.0000e+00, 2.2200e+02,\n",
       "        1.8700e+01, 3.9463e+02, 2.9400e+00, 1.0000e+00]),\n",
       " array([6.9050e-02, 0.0000e+00, 2.1800e+00, 0.0000e+00, 4.5800e-01,\n",
       "        7.1470e+00, 5.4200e+01, 6.0622e+00, 3.0000e+00, 2.2200e+02,\n",
       "        1.8700e+01, 3.9690e+02, 5.3300e+00, 1.0000e+00])]"
      ]
     },
     "execution_count": 20,
     "metadata": {},
     "output_type": "execute_result"
    }
   ],
   "source": [
    "# 説明変数\n",
    "# データを行ごとにばらして各行をarray形に格納する\n",
    "# 各行のarray形のデータをconcatenateで結合して配列に格納する\n",
    "X = [np.concatenate((v, [1])) for v in boston.data]\n",
    "X[1:5]"
   ]
  },
  {
   "cell_type": "code",
   "execution_count": 25,
   "metadata": {},
   "outputs": [],
   "source": [
    "# 目的変数\n",
    "Y = boston.target"
   ]
  },
  {
   "cell_type": "code",
   "execution_count": 30,
   "metadata": {},
   "outputs": [
    {
     "name": "stdout",
     "output_type": "stream",
     "text": [
      "係数 = [-1.08011358e-01  4.64204584e-02  2.05586264e-02  2.68673382e+00\n",
      " -1.77666112e+01  3.80986521e+00  6.92224640e-04 -1.47556685e+00\n",
      "  3.06049479e-01 -1.23345939e-02 -9.52747232e-01  9.31168327e-03\n",
      " -5.24758378e-01  3.64594884e+01]\n",
      "誤差合計 = [11078.78457795]\n",
      "RMSE = 4.679191295697282\n"
     ]
    }
   ],
   "source": [
    "# 最小二乗法で単回帰直線を算出する\n",
    "# slope：傾き\n",
    "# total_error：直線とデータのずれを足し合わせた合計値\n",
    "s, total_error, _, _ = np.linalg.lstsq(X, Y, rcond=None)\n",
    "# 係数\n",
    "print(f'係数 = {s}')\n",
    "# 誤差合計\n",
    "print(f'誤差合計 = {total_error}')\n",
    "# RMSEの計算\n",
    "# ルート(誤差合計値/説明変数の行数(506))\n",
    "rmse = np.sqrt(total_error[0]/len(X))\n",
    "print(f'RMSE = {rmse}')"
   ]
  },
  {
   "cell_type": "markdown",
   "metadata": {},
   "source": [
    "### sklearnによる重回帰\n",
    "個人的にはこっちのがよく使う気がする...."
   ]
  },
  {
   "cell_type": "code",
   "execution_count": 33,
   "metadata": {},
   "outputs": [],
   "source": [
    "from sklearn.linear_model import LinearRegression"
   ]
  },
  {
   "cell_type": "code",
   "execution_count": 34,
   "metadata": {},
   "outputs": [
    {
     "data": {
      "text/plain": [
       "LinearRegression(copy_X=True, fit_intercept=True, n_jobs=None,\n",
       "         normalize=False)"
      ]
     },
     "execution_count": 34,
     "metadata": {},
     "output_type": "execute_result"
    }
   ],
   "source": [
    "# 予測モデルを作成\n",
    "lr = LinearRegression(fit_intercept=True)\n",
    "lr.fit(X, Y)"
   ]
  },
  {
   "cell_type": "code",
   "execution_count": 35,
   "metadata": {},
   "outputs": [
    {
     "data": {
      "text/plain": [
       "array([30.00384338, 25.02556238, 30.56759672, 28.60703649, 27.94352423,\n",
       "       25.25628446, 23.00180827, 19.53598843, 11.52363685, 18.92026211])"
      ]
     },
     "execution_count": 35,
     "metadata": {},
     "output_type": "execute_result"
    }
   ],
   "source": [
    "# それぞれの各データ値に対してその予測値を算出\n",
    "p = lr.predict(X)\n",
    "\n",
    "# 計算した予測値の上位10行を表示\n",
    "p[:10]"
   ]
  },
  {
   "cell_type": "code",
   "execution_count": 77,
   "metadata": {},
   "outputs": [
    {
     "name": "stdout",
     "output_type": "stream",
     "text": [
      "0.7406426641094095\n"
     ]
    }
   ],
   "source": [
    "# 決定係数を算出\n",
    "from sklearn.metrics import r2_score\n",
    "# 学習用データ\n",
    "print(r2_score(Y,p))"
   ]
  },
  {
   "cell_type": "code",
   "execution_count": 36,
   "metadata": {},
   "outputs": [
    {
     "name": "stdout",
     "output_type": "stream",
     "text": [
      "RMSE on training: 4.679191295697281\n"
     ]
    }
   ],
   "source": [
    "# RMSEの計算\n",
    "# p：予測値 Y：実際の値\n",
    "\n",
    "# 各値ごとの誤差を計算\n",
    "e = p - Y\n",
    "# 誤差の2乗の合計値を算出\n",
    "total_error = np.sum(e * e)\n",
    "# ルート(誤差合計値/説明変数の行数(506))\n",
    "rmse_train = np.sqrt(total_error / len(p))\n",
    "print(f'RMSE on training: {rmse_train}')"
   ]
  },
  {
   "attachments": {
    "%E3%82%AD%E3%83%A3%E3%83%97%E3%83%81%E3%83%A3.PNG": {
     "image/png": "[encoded data removed]"
    }
   },
   "cell_type": "markdown",
   "metadata": {},
   "source": [
    "※決定係数：モデルの当てはまりの良さを示す指標。寄与率とも呼ばれる。  \n",
    "※RMSE：平均平方二乗誤差。モデルの精度評価に用いられる指標の1つ。\n",
    "![%E3%82%AD%E3%83%A3%E3%83%97%E3%83%81%E3%83%A3.PNG](attachment:%E3%82%AD%E3%83%A3%E3%83%97%E3%83%81%E3%83%A3.PNG)  \n",
    "https://pythondatascience.plavox.info/scikit-learn/%E5%9B%9E%E5%B8%B0%E3%83%A2%E3%83%87%E3%83%AB%E3%81%AE%E8%A9%95%E4%BE%A1"
   ]
  },
  {
   "cell_type": "markdown",
   "metadata": {},
   "source": [
    "# Sklearnを用いてクロスバリデーションでモデルを作成してみる\n",
    "ここまでは全てのデータを学習用データとしてモデルを作成していた。\n",
    "本来であれば学習データとテストデータに分割して実施してみるべきである。\n",
    "\n",
    "ホールドアウト法：データ全体を学習データとテストデータに分割する方法  \n",
    "クロスバリデーション法(交差確認法)：データ全体をK個に分割し、そのうちの1つのブロックをテストデータとして利用する。これをK回繰り返す  ブーストラップ法：データ全体から重複を許すサンプリングを複数回実施して学習データとテストデータを作成、これを繰り返し評価を行う。\n"
   ]
  },
  {
   "cell_type": "markdown",
   "metadata": {},
   "source": [
    "### ホールドアウト法による予測モデルの作成"
   ]
  },
  {
   "cell_type": "code",
   "execution_count": 59,
   "metadata": {},
   "outputs": [
    {
     "data": {
      "text/plain": [
       "506"
      ]
     },
     "execution_count": 59,
     "metadata": {},
     "output_type": "execute_result"
    }
   ],
   "source": [
    "len(X)"
   ]
  },
  {
   "cell_type": "code",
   "execution_count": 78,
   "metadata": {},
   "outputs": [],
   "source": [
    "from sklearn.model_selection import train_test_split\n",
    "# データ全体を学習用データとテスト用データに分割する\n",
    "# train_size,test_sizeの引数を指定しないとFutureWarningがでるよ\n",
    "X_train, X_val, Y_train, Y_val = train_test_split(X, Y, train_size=0.8, test_size=0.2 ,random_state=1)"
   ]
  },
  {
   "cell_type": "code",
   "execution_count": 79,
   "metadata": {},
   "outputs": [
    {
     "name": "stdout",
     "output_type": "stream",
     "text": [
      "404\n",
      "[array([1.5445e-01, 2.5000e+01, 5.1300e+00, 0.0000e+00, 4.5300e-01,\n",
      "       6.1450e+00, 2.9200e+01, 7.8148e+00, 8.0000e+00, 2.8400e+02,\n",
      "       1.9700e+01, 3.9068e+02, 6.8600e+00, 1.0000e+00]), array([ 16.8118,   0.    ,  18.1   ,   0.    ,   0.7   ,   5.277 ,\n",
      "        98.1   ,   1.4261,  24.    , 666.    ,  20.2   , 396.9   ,\n",
      "        30.81  ,   1.    ]), array([5.6460e-02, 0.0000e+00, 1.2830e+01, 0.0000e+00, 4.3700e-01,\n",
      "       6.2320e+00, 5.3700e+01, 5.0141e+00, 5.0000e+00, 3.9800e+02,\n",
      "       1.8700e+01, 3.8640e+02, 1.2340e+01, 1.0000e+00]), array([8.79212e+00, 0.00000e+00, 1.81000e+01, 0.00000e+00, 5.84000e-01,\n",
      "       5.56500e+00, 7.06000e+01, 2.06350e+00, 2.40000e+01, 6.66000e+02,\n",
      "       2.02000e+01, 3.65000e+00, 1.71600e+01, 1.00000e+00])]\n",
      "404\n",
      "[23.3  7.2 21.2 11.7]\n"
     ]
    }
   ],
   "source": [
    "# 学習用データを確認してみる\n",
    "print(len(X_train))\n",
    "print(X_train[1:5])\n",
    "\n",
    "print(len(Y_train))\n",
    "print(Y_train[1:5])"
   ]
  },
  {
   "cell_type": "code",
   "execution_count": 80,
   "metadata": {},
   "outputs": [
    {
     "name": "stdout",
     "output_type": "stream",
     "text": [
      "102\n",
      "[array([2.5430e-02, 5.5000e+01, 3.7800e+00, 0.0000e+00, 4.8400e-01,\n",
      "       6.6960e+00, 5.6400e+01, 5.7321e+00, 5.0000e+00, 3.7000e+02,\n",
      "       1.7600e+01, 3.9690e+02, 7.1800e+00, 1.0000e+00]), array([2.2927e-01, 0.0000e+00, 6.9100e+00, 0.0000e+00, 4.4800e-01,\n",
      "       6.0300e+00, 8.5500e+01, 5.6894e+00, 3.0000e+00, 2.3300e+02,\n",
      "       1.7900e+01, 3.9274e+02, 1.8800e+01, 1.0000e+00]), array([5.7890e-02, 1.2500e+01, 6.0700e+00, 0.0000e+00, 4.0900e-01,\n",
      "       5.8780e+00, 2.1400e+01, 6.4980e+00, 4.0000e+00, 3.4500e+02,\n",
      "       1.8900e+01, 3.9621e+02, 8.1000e+00, 1.0000e+00]), array([  3.67822,   0.     ,  18.1    ,   0.     ,   0.77   ,   5.362  ,\n",
      "        96.2    ,   2.1036 ,  24.     , 666.     ,  20.2    , 380.79   ,\n",
      "        10.19   ,   1.     ])]\n",
      "102\n",
      "[23.9 16.6 22.  20.8]\n"
     ]
    }
   ],
   "source": [
    "# テスト用データを確認してみる\n",
    "print(len(X_val))\n",
    "print(X_val[1:5])\n",
    "\n",
    "print(len(Y_val))\n",
    "print(Y_val[1:5])"
   ]
  },
  {
   "cell_type": "code",
   "execution_count": 81,
   "metadata": {},
   "outputs": [
    {
     "data": {
      "text/plain": [
       "LinearRegression(copy_X=True, fit_intercept=True, n_jobs=None,\n",
       "         normalize=False)"
      ]
     },
     "execution_count": 81,
     "metadata": {},
     "output_type": "execute_result"
    }
   ],
   "source": [
    "# 学習\n",
    "lr = LinearRegression(fit_intercept=True)\n",
    "lr.fit(X_train, Y_train)"
   ]
  },
  {
   "cell_type": "code",
   "execution_count": 82,
   "metadata": {},
   "outputs": [],
   "source": [
    "# 予測\n",
    "y_train_pred = lr.predict(X_train)\n",
    "y_val_pred = lr.predict(X_val)"
   ]
  },
  {
   "cell_type": "code",
   "execution_count": 83,
   "metadata": {},
   "outputs": [
    {
     "name": "stdout",
     "output_type": "stream",
     "text": [
      "0.7293585058196337\n",
      "0.7634174432138472\n"
     ]
    }
   ],
   "source": [
    "# 決定係数を算出\n",
    "from sklearn.metrics import r2_score\n",
    "# 学習用データ\n",
    "print(r2_score(Y_train,y_train_pred))\n",
    "\n",
    "#テスト用データ\n",
    "print(r2_score(Y_val,y_val_pred))"
   ]
  },
  {
   "cell_type": "code",
   "execution_count": 88,
   "metadata": {},
   "outputs": [
    {
     "name": "stdout",
     "output_type": "stream",
     "text": [
      "RMSE on training: 4.177998335155245\n",
      "RMSE on training: 2.1709751369902808\n"
     ]
    }
   ],
   "source": [
    "# RMSEの計算\n",
    "\n",
    "# 学習用データ\n",
    "# 各値ごとの誤差を計算\n",
    "e = y_train_pred - Y_train\n",
    "# 誤差の2乗の合計値を算出\n",
    "total_error = np.sum(e * e)\n",
    "# ルート(誤差合計値/説明変数の行数(506))\n",
    "rmse_train = np.sqrt(total_error / len(p))\n",
    "print(f'RMSE on training: {rmse_train}')\n",
    "\n",
    "# テスト用データ\n",
    "# 各値ごとの誤差を計算\n",
    "e = y_val_pred - Y_val\n",
    "# 誤差の2乗の合計値を算出\n",
    "total_error = np.sum(e * e)\n",
    "# ルート(誤差合計値/説明変数の行数(506))\n",
    "rmse_train = np.sqrt(total_error / len(p))\n",
    "print(f'RMSE on training: {rmse_train}')"
   ]
  },
  {
   "cell_type": "markdown",
   "metadata": {},
   "source": [
    "# クロスバリデーションを用いた重回帰モデルの作成"
   ]
  },
  {
   "cell_type": "code",
   "execution_count": 102,
   "metadata": {},
   "outputs": [
    {
     "name": "stdout",
     "output_type": "stream",
     "text": [
      "Cross-Validation scores: [ 0.5839083   0.53248448 -5.86898835]\n",
      "Average score: -1.5841985220997892\n"
     ]
    }
   ],
   "source": [
    "#クロスバリデーション(学習データへの依存がなくなる)\n",
    "from sklearn.model_selection import KFold\n",
    "from sklearn.model_selection import cross_val_score\n",
    "\n",
    "kf = KFold(n_splits=3, random_state=None, shuffle=False)\n",
    "lr = LinearRegression(fit_intercept=True)\n",
    "\n",
    "# 評価値(決定係数)を算出する関数\n",
    "scores = cross_val_score(lr, X, Y, cv=kf)\n",
    "print('Cross-Validation scores: {}'.format(scores))\n",
    "print('Average score: {}'.format(np.mean(scores)))"
   ]
  },
  {
   "cell_type": "code",
   "execution_count": 110,
   "metadata": {},
   "outputs": [
    {
     "name": "stdout",
     "output_type": "stream",
     "text": [
      "RMSE: [ 4.54227981  5.87221838 21.25816743]\n",
      "RMSE平均値: 10.557555207835472\n"
     ]
    }
   ],
   "source": [
    "# カスタムでRMSEを出してみる\n",
    "import math\n",
    "from sklearn.metrics import make_scorer\n",
    "from sklearn.model_selection import cross_validate\n",
    "from sklearn.metrics import mean_squared_error\n",
    "\n",
    "def rmse_score(y_true, y_pred):\n",
    "    \"\"\"RMSE (Root Mean Square Error: 平均二乗誤差平方根) を計算する関数\"\"\"\n",
    "    mse = mean_squared_error(y_true, y_pred)\n",
    "    rmse = math.sqrt(mse)\n",
    "    return rmse\n",
    "\n",
    "kf = KFold(n_splits=3, random_state=None, shuffle=False)\n",
    "lr = LinearRegression(fit_intercept=True)\n",
    "\n",
    "score_funcs = {\n",
    "        'rmse': make_scorer(rmse_score),\n",
    "    }\n",
    "scores = cross_validate(lr, X, Y, cv=kf, scoring=score_funcs)\n",
    "print('RMSE: {}'.format(scores['test_rmse']))\n",
    "print('RMSE平均値: {}'.format(scores['test_rmse'].mean()))"
   ]
  }
 ],
 "metadata": {
  "kernelspec": {
   "display_name": "Python 3",
   "language": "python",
   "name": "python3"
  },
  "language_info": {
   "codemirror_mode": {
    "name": "ipython",
    "version": 3
   },
   "file_extension": ".py",
   "mimetype": "text/x-python",
   "name": "python",
   "nbconvert_exporter": "python",
   "pygments_lexer": "ipython3",
   "version": "3.7.1"
  }
 },
 "nbformat": 4,
 "nbformat_minor": 2
}
