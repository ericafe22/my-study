{
 "cells": [
  {
   "cell_type": "markdown",
   "metadata": {},
   "source": [
    "# 1. クラスタリングとは\n",
    "クラスタリングは 教師なし学習 に属する分析手法である。\n",
    "\n",
    "クラスタリングの目標は、データを自然なグループにまとめる方法を見つけ出すことである。つまり、正しい答えが事前にわかっていないデータから隠れた構造を見つけ出す。\n",
    "\n",
    "クラスタリングには色々な手法があり、どの手法が最適かはクラスタリングを行いたいデータセットに依存する。"
   ]
  },
  {
   "cell_type": "markdown",
   "metadata": {},
   "source": [
    "### クラスタリングの種類\n",
    "https://scikit-learn.org/stable/auto_examples/cluster/plot_cluster_comparison.html\n",
    "\n",
    "上記サイトにあるように色々な手法が存在し、データセットによってどのクラスタリングが最適化は異なる"
   ]
  },
  {
   "cell_type": "markdown",
   "metadata": {},
   "source": [
    "# 2.階層型クラスタリングとは\n",
    "データセットのサンプルを順番にクラスタにしていく方法で、途中過程が階層のように表せ、最終的に樹形図（デンドログラム）として表すことができる。ここで「順番にクラスタにしていく方法」として主に下記の方法がある。\n",
    "\n",
    "・単連結法(single linkage)  \n",
    "最も近いメンバー同士の距離が最少となる2つのクラスタをマージする\n",
    "\n",
    "・完全連結法(complete linkage)  \n",
    "最も遠いメンバー同士の距離が最少となる2つのクラスタをマージする\n",
    "\n",
    "・群平均法(average linkage)  \n",
    "メンバー同士の全ての組み合わせの距離の平均が最少となる2つのクラスタをマージする\n",
    "\n",
    "・ウォード連結法(Ward's linkage)  \n",
    "クラスタ内誤差平方和の合計の増加量が最少となる2つのクラスタをマージする\n",
    "ここで、クラスタ内誤差平方和とはクラスターの重心から各クラスターメンバーへの距離の総和を全クラスタで足し合わせたものである。"
   ]
  },
  {
   "cell_type": "markdown",
   "metadata": {},
   "source": [
    "### メリット\n",
    "あらかじめクラスタ数を決める必要がない\n",
    "結果として出力される樹形図から、分類の過程でできるクラスターがどのように結合されていくかを一つひとつ確認できる\n",
    "樹形図を用いて後からクラスタ数を決めることができる\n",
    "\n",
    "### デメリット\n",
    "分類の対象が非常に多い場合、計算量が多くなり実行が困難になったり、樹形図が巨大になり結果が不明瞭になったりする。都道府県の例でも結構多い。\n",
    "\n",
    "![都道府県の分類](https://www.albert2005.co.jp/knowledge/images/tech_mining_img106.jpg)"
   ]
  },
  {
   "cell_type": "markdown",
   "metadata": {},
   "source": [
    "### 階層型クラスタリングの実装"
   ]
  },
  {
   "cell_type": "code",
   "execution_count": 11,
   "metadata": {},
   "outputs": [],
   "source": [
    "# 必要なパッケージをimport\n",
    "import numpy as np\n",
    "import pandas as pd\n",
    "from scipy.spatial.distance import pdist, squareform\n",
    "from scipy.cluster.hierarchy import linkage\n",
    "from scipy.cluster.hierarchy import dendrogram\n",
    "import matplotlib.pyplot as plt"
   ]
  },
  {
   "cell_type": "code",
   "execution_count": 3,
   "metadata": {},
   "outputs": [
    {
     "data": {
      "text/html": [
       "<div>\n",
       "<style scoped>\n",
       "    .dataframe tbody tr th:only-of-type {\n",
       "        vertical-align: middle;\n",
       "    }\n",
       "\n",
       "    .dataframe tbody tr th {\n",
       "        vertical-align: top;\n",
       "    }\n",
       "\n",
       "    .dataframe thead th {\n",
       "        text-align: right;\n",
       "    }\n",
       "</style>\n",
       "<table border=\"1\" class=\"dataframe\">\n",
       "  <thead>\n",
       "    <tr style=\"text-align: right;\">\n",
       "      <th></th>\n",
       "      <th>X</th>\n",
       "      <th>Y</th>\n",
       "      <th>Z</th>\n",
       "    </tr>\n",
       "  </thead>\n",
       "  <tbody>\n",
       "    <tr>\n",
       "      <th>ID_0</th>\n",
       "      <td>6.964692</td>\n",
       "      <td>2.861393</td>\n",
       "      <td>2.268515</td>\n",
       "    </tr>\n",
       "    <tr>\n",
       "      <th>ID_1</th>\n",
       "      <td>5.513148</td>\n",
       "      <td>7.194690</td>\n",
       "      <td>4.231065</td>\n",
       "    </tr>\n",
       "    <tr>\n",
       "      <th>ID_2</th>\n",
       "      <td>9.807642</td>\n",
       "      <td>6.848297</td>\n",
       "      <td>4.809319</td>\n",
       "    </tr>\n",
       "    <tr>\n",
       "      <th>ID_3</th>\n",
       "      <td>3.921175</td>\n",
       "      <td>3.431780</td>\n",
       "      <td>7.290497</td>\n",
       "    </tr>\n",
       "    <tr>\n",
       "      <th>ID_4</th>\n",
       "      <td>4.385722</td>\n",
       "      <td>0.596779</td>\n",
       "      <td>3.980443</td>\n",
       "    </tr>\n",
       "  </tbody>\n",
       "</table>\n",
       "</div>"
      ],
      "text/plain": [
       "             X         Y         Z\n",
       "ID_0  6.964692  2.861393  2.268515\n",
       "ID_1  5.513148  7.194690  4.231065\n",
       "ID_2  9.807642  6.848297  4.809319\n",
       "ID_3  3.921175  3.431780  7.290497\n",
       "ID_4  4.385722  0.596779  3.980443"
      ]
     },
     "execution_count": 3,
     "metadata": {},
     "output_type": "execute_result"
    }
   ],
   "source": [
    "# ランダム値で適当なデータセットを作成する\n",
    "np.random.seed(123)\n",
    "\n",
    "variables = ['X', 'Y', 'Z']\n",
    "labels = ['ID_0', 'ID_1', 'ID_2', 'ID_3', 'ID_4']\n",
    "\n",
    "X = np.random.random_sample([5, 3])*10\n",
    "df = pd.DataFrame(X, columns=variables, index=labels)\n",
    "df"
   ]
  },
  {
   "cell_type": "code",
   "execution_count": 6,
   "metadata": {},
   "outputs": [
    {
     "data": {
      "text/html": [
       "<div>\n",
       "<style scoped>\n",
       "    .dataframe tbody tr th:only-of-type {\n",
       "        vertical-align: middle;\n",
       "    }\n",
       "\n",
       "    .dataframe tbody tr th {\n",
       "        vertical-align: top;\n",
       "    }\n",
       "\n",
       "    .dataframe thead th {\n",
       "        text-align: right;\n",
       "    }\n",
       "</style>\n",
       "<table border=\"1\" class=\"dataframe\">\n",
       "  <thead>\n",
       "    <tr style=\"text-align: right;\">\n",
       "      <th></th>\n",
       "      <th>ID_0</th>\n",
       "      <th>ID_1</th>\n",
       "      <th>ID_2</th>\n",
       "      <th>ID_3</th>\n",
       "      <th>ID_4</th>\n",
       "    </tr>\n",
       "  </thead>\n",
       "  <tbody>\n",
       "    <tr>\n",
       "      <th>ID_0</th>\n",
       "      <td>0.000000</td>\n",
       "      <td>4.973534</td>\n",
       "      <td>5.516653</td>\n",
       "      <td>5.899885</td>\n",
       "      <td>3.835396</td>\n",
       "    </tr>\n",
       "    <tr>\n",
       "      <th>ID_1</th>\n",
       "      <td>4.973534</td>\n",
       "      <td>0.000000</td>\n",
       "      <td>4.347073</td>\n",
       "      <td>5.104311</td>\n",
       "      <td>6.698233</td>\n",
       "    </tr>\n",
       "    <tr>\n",
       "      <th>ID_2</th>\n",
       "      <td>5.516653</td>\n",
       "      <td>4.347073</td>\n",
       "      <td>0.000000</td>\n",
       "      <td>7.244262</td>\n",
       "      <td>8.316594</td>\n",
       "    </tr>\n",
       "    <tr>\n",
       "      <th>ID_3</th>\n",
       "      <td>5.899885</td>\n",
       "      <td>5.104311</td>\n",
       "      <td>7.244262</td>\n",
       "      <td>0.000000</td>\n",
       "      <td>4.382864</td>\n",
       "    </tr>\n",
       "    <tr>\n",
       "      <th>ID_4</th>\n",
       "      <td>3.835396</td>\n",
       "      <td>6.698233</td>\n",
       "      <td>8.316594</td>\n",
       "      <td>4.382864</td>\n",
       "      <td>0.000000</td>\n",
       "    </tr>\n",
       "  </tbody>\n",
       "</table>\n",
       "</div>"
      ],
      "text/plain": [
       "          ID_0      ID_1      ID_2      ID_3      ID_4\n",
       "ID_0  0.000000  4.973534  5.516653  5.899885  3.835396\n",
       "ID_1  4.973534  0.000000  4.347073  5.104311  6.698233\n",
       "ID_2  5.516653  4.347073  0.000000  7.244262  8.316594\n",
       "ID_3  5.899885  5.104311  7.244262  0.000000  4.382864\n",
       "ID_4  3.835396  6.698233  8.316594  4.382864  0.000000"
      ]
     },
     "execution_count": 6,
     "metadata": {},
     "output_type": "execute_result"
    }
   ],
   "source": [
    "# 5つの要素のユーグリッド距離を計算\n",
    "# pdistで生成された配列を距離行列に変換\n",
    "# DataFrame型に変換\n",
    "# euclideadn：ユーグリッド距離\n",
    "# minkowski：ミンコフスキー距離\n",
    "# cityblock：マンハッタン距離      etc...\n",
    "row_dist = pd.DataFrame(squareform(pdist(df, metric='euclidean')),\n",
    "                        columns=labels,\n",
    "                        index=labels)\n",
    "row_dist"
   ]
  },
  {
   "cell_type": "code",
   "execution_count": 7,
   "metadata": {},
   "outputs": [
    {
     "data": {
      "text/plain": [
       "array([[6.96469186, 2.86139335, 2.26851454],\n",
       "       [5.51314769, 7.1946897 , 4.2310646 ],\n",
       "       [9.80764198, 6.84829739, 4.80931901],\n",
       "       [3.92117518, 3.43178016, 7.29049707],\n",
       "       [4.38572245, 0.59677897, 3.98044255]])"
      ]
     },
     "execution_count": 7,
     "metadata": {},
     "output_type": "execute_result"
    }
   ],
   "source": [
    "# データのarray型\n",
    "df.values"
   ]
  },
  {
   "cell_type": "code",
   "execution_count": 8,
   "metadata": {},
   "outputs": [],
   "source": [
    "# methodに○○法、metricに使用する距離を指定\n",
    "# linkage：クラスタリングを実行するメソッド\n",
    "row_clusters = linkage(df.values, method='complete', metric='euclidean')"
   ]
  },
  {
   "cell_type": "code",
   "execution_count": 9,
   "metadata": {},
   "outputs": [
    {
     "data": {
      "text/html": [
       "<div>\n",
       "<style scoped>\n",
       "    .dataframe tbody tr th:only-of-type {\n",
       "        vertical-align: middle;\n",
       "    }\n",
       "\n",
       "    .dataframe tbody tr th {\n",
       "        vertical-align: top;\n",
       "    }\n",
       "\n",
       "    .dataframe thead th {\n",
       "        text-align: right;\n",
       "    }\n",
       "</style>\n",
       "<table border=\"1\" class=\"dataframe\">\n",
       "  <thead>\n",
       "    <tr style=\"text-align: right;\">\n",
       "      <th></th>\n",
       "      <th>row label 1</th>\n",
       "      <th>row label 2</th>\n",
       "      <th>distance</th>\n",
       "      <th>no. of items in clust.</th>\n",
       "    </tr>\n",
       "  </thead>\n",
       "  <tbody>\n",
       "    <tr>\n",
       "      <th>cluster 1</th>\n",
       "      <td>0.0</td>\n",
       "      <td>4.0</td>\n",
       "      <td>3.835396</td>\n",
       "      <td>2.0</td>\n",
       "    </tr>\n",
       "    <tr>\n",
       "      <th>cluster 2</th>\n",
       "      <td>1.0</td>\n",
       "      <td>2.0</td>\n",
       "      <td>4.347073</td>\n",
       "      <td>2.0</td>\n",
       "    </tr>\n",
       "    <tr>\n",
       "      <th>cluster 3</th>\n",
       "      <td>3.0</td>\n",
       "      <td>5.0</td>\n",
       "      <td>5.899885</td>\n",
       "      <td>3.0</td>\n",
       "    </tr>\n",
       "    <tr>\n",
       "      <th>cluster 4</th>\n",
       "      <td>6.0</td>\n",
       "      <td>7.0</td>\n",
       "      <td>8.316594</td>\n",
       "      <td>5.0</td>\n",
       "    </tr>\n",
       "  </tbody>\n",
       "</table>\n",
       "</div>"
      ],
      "text/plain": [
       "           row label 1  row label 2  distance  no. of items in clust.\n",
       "cluster 1          0.0          4.0  3.835396                     2.0\n",
       "cluster 2          1.0          2.0  4.347073                     2.0\n",
       "cluster 3          3.0          5.0  5.899885                     3.0\n",
       "cluster 4          6.0          7.0  8.316594                     5.0"
      ]
     },
     "execution_count": 9,
     "metadata": {},
     "output_type": "execute_result"
    }
   ],
   "source": [
    "# クラスタリングの結果を可視化\n",
    "# row_label：マージしたデータのラベル番号(0 + 4→5)\n",
    "# distance：マージしたデータ同士の距離\n",
    "# no. of items in clust.：クラスタ内のアイテム数\n",
    "pd.DataFrame(row_clusters,\n",
    "             columns=['row label 1', 'row label 2',\n",
    "                      'distance', 'no. of items in clust.'],\n",
    "             index=['cluster %d' % (i + 1)\n",
    "                    for i in range(row_clusters.shape[0])])"
   ]
  },
  {
   "cell_type": "code",
   "execution_count": 12,
   "metadata": {},
   "outputs": [
    {
     "data": {
      "image/png": "[encoded data removed]",
      "text/plain": [
       "<Figure size 432x288 with 1 Axes>"
      ]
     },
     "metadata": {
      "needs_background": "light"
     },
     "output_type": "display_data"
    }
   ],
   "source": [
    "# row_clustersの結果を用いてデンドログラムを描いてみる\n",
    "# ID_0とID_4でcluster1\n",
    "# ID_0とID_4 ->ID_5となり、ID_3とID_5でcluster3\n",
    "row_dendr = dendrogram(row_clusters,\n",
    "                       labels=labels,\n",
    "                       )\n",
    "plt.tight_layout()\n",
    "plt.ylabel('Euclidean distance')\n",
    "plt.show()"
   ]
  },
  {
   "cell_type": "markdown",
   "metadata": {},
   "source": [
    "# 3.非階層型クラスタリング\n",
    "階層クラスター分析と異なり、階層的な構造を持たず、あらかじめいくつのクラスターに分けるかを決め、決めた数のクラスタにサンプルを分割する方法。\n",
    "\n",
    "階層クラスター分析と違い、サンプル数が大きいビッグデータを分析するときに適している。\n",
    "\n",
    "ただし、あらかじめいくつのクラスターに分けるかは、分析者が決める必要があり、最適クラスター数を自動的には計算する方法は確立されていない。(エルボー法やシルエットプロット図とかはあるけども....)"
   ]
  },
  {
   "cell_type": "markdown",
   "metadata": {},
   "source": [
    "### Kmeans法\n",
    "kをあらかじめパラメータとして決めておく。\n",
    "\n",
    "クラスター重心をクラスターの代表点とし、クラスタ内誤差平方和を最小化するようにk個のクラスタを決める手法。\n",
    "\n",
    "下記リンクが詳しい\n",
    "https://www.albert2005.co.jp/knowledge/data_mining/cluster/non-hierarchical_clustering"
   ]
  },
  {
   "cell_type": "markdown",
   "metadata": {},
   "source": [
    "### Kmeans法の実装"
   ]
  },
  {
   "cell_type": "code",
   "execution_count": 13,
   "metadata": {},
   "outputs": [],
   "source": [
    "# import\n",
    "import matplotlib.pyplot as plt\n",
    "from sklearn.datasets import make_blobs\n",
    "from sklearn.cluster import KMeans"
   ]
  },
  {
   "cell_type": "code",
   "execution_count": 14,
   "metadata": {},
   "outputs": [],
   "source": [
    "# テストデータセットの用意\n",
    "# n_samples\tサンプル数\n",
    "# n_features\t特徴量の数\n",
    "# centers\t中心の個数（塊数）\n",
    "# cluster_std\tクラスタの標準偏差\n",
    "X, y = make_blobs(n_samples=150, \n",
    "                  n_features=2, \n",
    "                  centers=5, \n",
    "                  cluster_std=0.5, \n",
    "                  shuffle=True, \n",
    "                  random_state=0)"
   ]
  },
  {
   "cell_type": "code",
   "execution_count": 15,
   "metadata": {},
   "outputs": [
    {
     "data": {
      "text/plain": [
       "array([[ 2.11872357,  1.09865834],\n",
       "       [-1.31469606,  7.68656458],\n",
       "       [-1.03512641,  8.17391403],\n",
       "       [-0.5010135 ,  6.8004675 ],\n",
       "       [ 8.95921143, -2.57168318],\n",
       "       [ 0.96217896,  4.51795326],\n",
       "       [ 2.15940501,  1.38598318],\n",
       "       [ 2.4198128 ,  0.96215512],\n",
       "       [ 0.5323772 ,  3.31338909],\n",
       "       [ 0.78260667,  4.15263595],\n",
       "       [ 0.4519936 ,  3.59377836],\n",
       "       [ 0.16932115,  4.19741719],\n",
       "       [ 1.04829186,  5.03092408],\n",
       "       [ 1.40848818,  3.93270482],\n",
       "       [ 1.59141542,  4.90497725],\n",
       "       [-1.10829348,  7.78638482],\n",
       "       [-1.77592024,  3.88264829],\n",
       "       [ 2.20438661,  1.56085661],\n",
       "       [ 9.11781212, -2.28246954],\n",
       "       [10.25121136, -2.13612296],\n",
       "       [-1.82634699,  8.22605907],\n",
       "       [ 1.06498315,  4.10289686],\n",
       "       [ 0.99914934,  4.2101954 ],\n",
       "       [-1.17000251,  7.95155053],\n",
       "       [ 9.60644675, -2.56152952],\n",
       "       [-1.21428829,  2.11685343],\n",
       "       [-0.67208999,  8.37526931],\n",
       "       [ 1.51989121,  1.42488952],\n",
       "       [ 9.53378765, -2.61906361],\n",
       "       [ 2.62496786,  0.28025075],\n",
       "       [ 2.989047  ,  1.35068599],\n",
       "       [-2.27253281,  3.13757811],\n",
       "       [-1.05219361,  2.96165788],\n",
       "       [-1.0664746 ,  3.07724609],\n",
       "       [-1.75467026,  2.92662184],\n",
       "       [-1.25676598,  8.02503588],\n",
       "       [-0.8623605 ,  8.24721209],\n",
       "       [-0.92819001,  7.02698199],\n",
       "       [-2.01865428,  7.86709101],\n",
       "       [ 9.34423179, -2.49083383],\n",
       "       [ 2.06051753,  1.79059891],\n",
       "       [ 1.74265969,  5.03846671],\n",
       "       [ 2.64465731,  0.80770124],\n",
       "       [ 1.19820169,  4.47062449],\n",
       "       [ 1.00952869,  4.45502328],\n",
       "       [ 9.61902459, -1.98379505],\n",
       "       [ 9.0735307 , -2.14614168],\n",
       "       [-1.86407034,  2.93379754],\n",
       "       [ 0.12313498,  5.27917503],\n",
       "       [-1.40276226,  6.99745811],\n",
       "       [ 8.97509819, -2.35745327],\n",
       "       [-1.51968651,  8.04348504],\n",
       "       [ 0.5285368 ,  4.49723858],\n",
       "       [ 8.92723029, -1.5629811 ],\n",
       "       [-1.96028623,  7.58880007],\n",
       "       [-0.93288912,  3.07635357],\n",
       "       [ 9.21798488, -1.82108327],\n",
       "       [-1.91186205,  3.18750686],\n",
       "       [ 0.56969694,  3.44064603],\n",
       "       [-1.98331513,  3.47639041],\n",
       "       [-1.48005376,  8.07620075],\n",
       "       [ 1.62465468,  1.85269614],\n",
       "       [ 8.48178601, -2.02597993],\n",
       "       [ 9.32211769, -2.03969278],\n",
       "       [10.42521356, -2.86117753],\n",
       "       [ 8.30511531, -2.23678033],\n",
       "       [ 1.84845803,  0.52393625],\n",
       "       [-0.69842598,  8.16309188],\n",
       "       [-1.92860885,  2.57310737],\n",
       "       [ 9.20528036, -1.76272394],\n",
       "       [-1.70390097,  2.23040661],\n",
       "       [-1.32890066,  2.37135151],\n",
       "       [ 1.92126584,  1.29889186],\n",
       "       [ 9.5201261 , -2.38922159],\n",
       "       [ 9.47277838, -3.717466  ],\n",
       "       [ 9.62014179, -2.41095634],\n",
       "       [ 2.25643834,  0.55525861],\n",
       "       [ 8.94705092, -2.52664631],\n",
       "       [ 9.41642705, -2.02674771],\n",
       "       [ 0.5226209 ,  4.32976003],\n",
       "       [-1.84871321,  1.80618069],\n",
       "       [ 1.42002502,  1.38236201],\n",
       "       [ 2.52889351,  0.82015861],\n",
       "       [ 2.11114739,  3.57660449],\n",
       "       [-0.1186013 ,  7.81433144],\n",
       "       [ 0.3498724 ,  4.69253251],\n",
       "       [ 1.61986895,  0.60823883],\n",
       "       [-1.43284669,  7.71577043],\n",
       "       [ 2.24348029,  0.34796326],\n",
       "       [ 3.01673853,  1.63792106],\n",
       "       [ 8.75062853, -1.72559698],\n",
       "       [ 2.28809874,  0.12954182],\n",
       "       [ 1.85367905,  1.5088862 ],\n",
       "       [-1.26041884,  7.46644456],\n",
       "       [-1.72622827,  7.66246913],\n",
       "       [ 0.65910903,  4.12241674],\n",
       "       [-0.1666378 ,  8.50372399],\n",
       "       [-1.2386086 ,  2.81373288],\n",
       "       [ 9.61816429, -1.68024651],\n",
       "       [ 0.72144399,  4.08475018],\n",
       "       [ 1.13280393,  3.87673946],\n",
       "       [ 1.83769075,  1.82229552],\n",
       "       [-2.18485772,  2.68708996],\n",
       "       [-2.04402543,  3.25867952],\n",
       "       [ 9.53520072, -2.28695858],\n",
       "       [ 8.60612597, -3.00452838],\n",
       "       [-1.89668551,  3.68938956],\n",
       "       [-1.26789718,  7.25141327],\n",
       "       [ 1.70798359,  0.82284639],\n",
       "       [ 1.05374379,  4.49286859],\n",
       "       [-0.33533163,  3.390122  ],\n",
       "       [ 2.23345072,  1.25095024],\n",
       "       [ 2.3914149 ,  1.10139458],\n",
       "       [ 1.46870582,  1.86947425],\n",
       "       [ 8.67882558, -2.5845778 ],\n",
       "       [ 2.99684287,  0.22378413],\n",
       "       [-1.89928142,  2.50466299],\n",
       "       [-1.57613028,  2.58614312],\n",
       "       [-1.84482705,  3.25609891],\n",
       "       [-2.02701169,  2.14549671],\n",
       "       [ 2.36230721,  1.358767  ],\n",
       "       [-2.10063834,  2.69897224],\n",
       "       [-1.89468423,  7.96898545],\n",
       "       [ 0.802314  ,  4.38196181],\n",
       "       [ 9.21417319, -2.67125873],\n",
       "       [-0.30022483,  4.63059663],\n",
       "       [ 1.35678894,  4.36462484],\n",
       "       [ 2.79939362,  1.84560825],\n",
       "       [-1.6549379 ,  7.10224785],\n",
       "       [ 0.72086751,  3.71347124],\n",
       "       [ 0.64003985,  4.12401075],\n",
       "       [ 1.4726926 ,  1.3480769 ],\n",
       "       [-1.09848871,  2.59236946],\n",
       "       [-2.13962177,  3.34006375],\n",
       "       [-0.79316632,  7.99406912],\n",
       "       [-0.96358605,  2.37791651],\n",
       "       [-1.54691381,  7.71649915],\n",
       "       [ 8.91045652, -3.0228516 ],\n",
       "       [-0.85509179,  7.60225047],\n",
       "       [-1.7204789 ,  7.63043517],\n",
       "       [-0.98661744,  7.74968685],\n",
       "       [-1.44356727,  3.23539798],\n",
       "       [ 8.61999178, -1.50210428],\n",
       "       [-1.56697429,  7.63682411],\n",
       "       [ 0.16117091,  4.53517846],\n",
       "       [ 8.25791298, -1.29892319],\n",
       "       [-1.56102482,  3.77455362],\n",
       "       [-2.07909568,  2.9439648 ],\n",
       "       [ 1.72330962,  4.2012082 ],\n",
       "       [ 1.89949126,  0.92574633]])"
      ]
     },
     "execution_count": 15,
     "metadata": {},
     "output_type": "execute_result"
    }
   ],
   "source": [
    "# 特徴量\n",
    "X"
   ]
  },
  {
   "cell_type": "code",
   "execution_count": 16,
   "metadata": {},
   "outputs": [
    {
     "data": {
      "text/plain": [
       "array([1, 3, 3, 3, 4, 0, 1, 1, 0, 0, 0, 0, 0, 0, 0, 3, 2, 1, 4, 4, 3, 0,\n",
       "       0, 3, 4, 2, 3, 1, 4, 1, 1, 2, 2, 2, 2, 3, 3, 3, 3, 4, 1, 0, 1, 0,\n",
       "       0, 4, 4, 2, 0, 3, 4, 3, 0, 4, 3, 2, 4, 2, 0, 2, 3, 1, 4, 4, 4, 4,\n",
       "       1, 3, 2, 4, 2, 2, 1, 4, 4, 4, 1, 4, 4, 0, 2, 1, 1, 0, 3, 0, 1, 3,\n",
       "       1, 1, 4, 1, 1, 3, 3, 0, 3, 2, 4, 0, 0, 1, 2, 2, 4, 4, 2, 3, 1, 0,\n",
       "       2, 1, 1, 1, 4, 1, 2, 2, 2, 2, 1, 2, 3, 0, 4, 0, 0, 1, 3, 0, 0, 1,\n",
       "       2, 2, 3, 2, 3, 4, 3, 3, 3, 2, 4, 3, 0, 4, 2, 2, 0, 1])"
      ]
     },
     "execution_count": 16,
     "metadata": {},
     "output_type": "execute_result"
    }
   ],
   "source": [
    "# 中心の個数（塊数）のうちどこに所属するか\n",
    "y"
   ]
  },
  {
   "cell_type": "code",
   "execution_count": 17,
   "metadata": {},
   "outputs": [
    {
     "data": {
      "image/png": "[encoded data removed]",
      "text/plain": [
       "<Figure size 432x288 with 1 Axes>"
      ]
     },
     "metadata": {
      "needs_background": "light"
     },
     "output_type": "display_data"
    }
   ],
   "source": [
    "# 図示\n",
    "plt.scatter(X[:, 0], X[:, 1], \n",
    "            c='white', marker='o', edgecolor='black', s=50)\n",
    "plt.grid()\n",
    "plt.tight_layout()\n",
    "plt.show()"
   ]
  },
  {
   "cell_type": "code",
   "execution_count": 19,
   "metadata": {},
   "outputs": [],
   "source": [
    "# クラスタリングの実施\n",
    "# 5つの塊をあえて3つのクラスタで分けてみる\n",
    "km = KMeans(n_clusters=3, \n",
    "            init='random',\n",
    "            # init='k-means++',            \n",
    "            n_init=10, \n",
    "            max_iter=300,\n",
    "            tol=1e-04,\n",
    "            random_state=3)\n",
    "\n",
    "y_km = km.fit_predict(X)"
   ]
  },
  {
   "cell_type": "code",
   "execution_count": 20,
   "metadata": {},
   "outputs": [
    {
     "data": {
      "image/png": "[encoded data removed]",
      "text/plain": [
       "<Figure size 432x288 with 1 Axes>"
      ]
     },
     "metadata": {
      "needs_background": "light"
     },
     "output_type": "display_data"
    }
   ],
   "source": [
    "# plot\n",
    "plt.scatter(X[y_km == 0, 0],\n",
    "            X[y_km == 0, 1],\n",
    "            s=50, c='lightgreen',\n",
    "            marker='s', edgecolor='black',\n",
    "            label='cluster 1')\n",
    "plt.scatter(X[y_km == 1, 0],\n",
    "            X[y_km == 1, 1],\n",
    "            s=50, c='orange',\n",
    "            marker='o', edgecolor='black',\n",
    "            label='cluster 2')\n",
    "plt.scatter(X[y_km == 2, 0],\n",
    "            X[y_km == 2, 1],\n",
    "            s=50, c='lightblue',\n",
    "            marker='v', edgecolor='black',\n",
    "            label='cluster 3')\n",
    "plt.scatter(km.cluster_centers_[:, 0],\n",
    "            km.cluster_centers_[:, 1],\n",
    "            s=250, marker='*',\n",
    "            c='red', edgecolor='black',\n",
    "            label='centroids')\n",
    "plt.legend(scatterpoints=1)\n",
    "plt.grid()\n",
    "plt.tight_layout()\n",
    "plt.show()"
   ]
  }
 ],
 "metadata": {
  "kernelspec": {
   "display_name": "Python 3",
   "language": "python",
   "name": "python3"
  },
  "language_info": {
   "codemirror_mode": {
    "name": "ipython",
    "version": 3
   },
   "file_extension": ".py",
   "mimetype": "text/x-python",
   "name": "python",
   "nbconvert_exporter": "python",
   "pygments_lexer": "ipython3",
   "version": "3.7.1"
  }
 },
 "nbformat": 4,
 "nbformat_minor": 2
}
